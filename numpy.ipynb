{
  "nbformat": 4,
  "nbformat_minor": 0,
  "metadata": {
    "colab": {
      "provenance": []
    },
    "kernelspec": {
      "name": "python3",
      "display_name": "Python 3"
    },
    "language_info": {
      "name": "python"
    }
  },
  "cells": [
    {
      "cell_type": "markdown",
      "source": [
        "# NumPy"
      ],
      "metadata": {
        "id": "DV6r-Y3yWTbu"
      }
    },
    {
      "cell_type": "markdown",
      "source": [
        "NumPy (Numerical Python) is a fundamental library for numerical computing in Python. Here are the key points:\n",
        "\n",
        "* N-Dimensional Arrays: Provides support for multi-dimensional arrays (ndarray) for efficient storage and manipulation.\n",
        "* Homogeneous Data: All elements in a NumPy array must be of the same type.\n",
        "Performance: Arrays are stored in contiguous memory, making them faster and more memory-efficient than Python lists.\n",
        "* Broadcasting: Allows operations on arrays of different shapes without needing explicit replication of data.\n",
        "* Mathematical Functions: Offers a wide range of functions for mathematical operations, statistical analysis, and linear algebra.\n",
        "* Array Creation:\n",
        "From lists: np.array()\n",
        "Zeros: np.zeros()\n",
        "Ones: np.ones()\n",
        "Ranges: np.arange()\n",
        "Evenly spaced values: np.linspace()"
      ],
      "metadata": {
        "id": "EiNBY7CBV-nZ"
      }
    },
    {
      "cell_type": "markdown",
      "source": [
        "Installing Numpy:  pip install numpy"
      ],
      "metadata": {
        "id": "qwCaL4nX9SMb"
      }
    },
    {
      "cell_type": "code",
      "source": [
        "!pip install numpy"
      ],
      "metadata": {
        "colab": {
          "base_uri": "https://localhost:8080/"
        },
        "id": "CO7AawO19fdx",
        "outputId": "c226c4ca-1a9c-4f28-a286-1f27a26db83e"
      },
      "execution_count": null,
      "outputs": [
        {
          "output_type": "stream",
          "name": "stdout",
          "text": [
            "Requirement already satisfied: numpy in /usr/local/lib/python3.10/dist-packages (1.26.4)\n"
          ]
        }
      ]
    },
    {
      "cell_type": "code",
      "execution_count": null,
      "metadata": {
        "id": "c7Fg_CQyJfX9"
      },
      "outputs": [],
      "source": [
        "import numpy as np\n",
        "import time"
      ]
    },
    {
      "cell_type": "markdown",
      "source": [
        "# NumPy Array vs. Python List\n",
        "\n",
        "## Key Differences\n",
        "\n",
        "1. **Data Type**\n",
        "   - **NumPy Array**: Homogeneous (same data type).\n",
        "   - **Python List**: Heterogeneous (mixed data types).\n",
        "\n",
        "2. **Performance**\n",
        "   - **NumPy Array**: Faster and more memory-efficient.\n",
        "   - **Python List**: Slower for numerical operations.\n",
        "\n",
        "3. **Functionality**\n",
        "   - **NumPy Array**: Supports mathematical operations and broadcasting.\n",
        "   - **Python List**: Basic operations, no built-in numerical functions.\n",
        "\n",
        "4. **Dimensionality**\n",
        "   - **NumPy Array**: Multi-dimensional (n-dimensional).\n",
        "   - **Python List**: Primarily one-dimensional (nested lists for multi-dimensional)."
      ],
      "metadata": {
        "id": "UNqG7EYYXZUu"
      }
    },
    {
      "cell_type": "code",
      "source": [
        "# Size of the array\n",
        "size = 10**6\n",
        "\n",
        "# Create a list and a NumPy array with the same values\n",
        "list_data = list(range(size))\n",
        "np_array = np.arange(size)\n",
        "\n",
        "# Function to add elements in a Python list\n",
        "def list_addition():\n",
        "    return [x + 1 for x in list_data]\n",
        "\n",
        "# Function to add elements in a NumPy array\n",
        "def numpy_addition():\n",
        "    return np_array + 1\n",
        "\n",
        "# Timing the list addition\n",
        "start_time = time.time()\n",
        "list_result = list_addition()\n",
        "list_time = time.time() - start_time\n",
        "print(f\"Time taken for list addition: {list_time:.6f} seconds\")\n",
        "\n",
        "# Timing the NumPy addition\n",
        "start_time = time.time()\n",
        "numpy_result = numpy_addition()\n",
        "numpy_time = time.time() - start_time\n",
        "print(f\"Time taken for NumPy addition: {numpy_time:.6f} seconds\")\n",
        "\n",
        "# Optional: Check if the results are the same\n",
        "print(f\"Results are the same: {np.array_equal(list_result, numpy_result)}\")"
      ],
      "metadata": {
        "colab": {
          "base_uri": "https://localhost:8080/"
        },
        "id": "5lWqTjcMJ95g",
        "outputId": "a6ce1abf-5a87-4c2f-9a2c-47a62e45201f"
      },
      "execution_count": null,
      "outputs": [
        {
          "output_type": "stream",
          "name": "stdout",
          "text": [
            "Time taken for list addition: 0.064790 seconds\n",
            "Time taken for NumPy addition: 0.005019 seconds\n",
            "Results are the same: True\n"
          ]
        }
      ]
    },
    {
      "cell_type": "markdown",
      "source": [
        "# Array Creation"
      ],
      "metadata": {
        "id": "RLmzVgvzL8Qc"
      }
    },
    {
      "cell_type": "markdown",
      "source": [
        "Numpy Array Initialization"
      ],
      "metadata": {
        "id": "ktscWb5GN_gF"
      }
    },
    {
      "cell_type": "code",
      "source": [
        "arr1 = np.array([1,2,3,4,5])\n",
        "arr3 = np.array([[1,2,3,4,5],[2,3,4,5,6]])\n",
        "\n",
        "print(arr1)\n",
        "print(arr1.dtype)\n",
        "\n",
        "arr2 = np.array([1, 2, 3, 4, 5], dtype='float32')\n",
        "\n",
        "print(\"Array:\", arr2)\n",
        "print(arr2.dtype)\n",
        "\n",
        "print(arr3)\n",
        "print(arr3.shape)\n"
      ],
      "metadata": {
        "colab": {
          "base_uri": "https://localhost:8080/"
        },
        "id": "Qcg_qtjLLwi6",
        "outputId": "b84ecd87-c41e-41d9-afcb-b3685bb5725e"
      },
      "execution_count": null,
      "outputs": [
        {
          "output_type": "stream",
          "name": "stdout",
          "text": [
            "[1 2 3 4 5]\n",
            "int64\n",
            "Array: [1. 2. 3. 4. 5.]\n",
            "float32\n",
            "[[1 2 3 4 5]\n",
            " [2 3 4 5 6]]\n",
            "(2, 5)\n"
          ]
        }
      ]
    },
    {
      "cell_type": "markdown",
      "source": [
        "An array with a range of values"
      ],
      "metadata": {
        "id": "t_6V5pSuN-4D"
      }
    },
    {
      "cell_type": "code",
      "source": [
        "arr2 = np.arange(0, 10, 2)\n",
        "print(\"Arange:\", arr2)\n"
      ],
      "metadata": {
        "colab": {
          "base_uri": "https://localhost:8080/"
        },
        "id": "iAOxW5SQL285",
        "outputId": "314fe98a-b840-4d73-c81c-5a602261e5fb"
      },
      "execution_count": null,
      "outputs": [
        {
          "output_type": "stream",
          "name": "stdout",
          "text": [
            "Arange: [0 2 4 6 8]\n"
          ]
        }
      ]
    },
    {
      "cell_type": "markdown",
      "source": [
        "An array filled with ones and zeros"
      ],
      "metadata": {
        "id": "57IFHLgRN-ho"
      }
    },
    {
      "cell_type": "code",
      "source": [
        "zeros = np.zeros((3, 3))\n",
        "ones = np.ones((2, 3))\n",
        "print(\"Zeros:\\n\", zeros)\n",
        "print(\"Ones:\\n\", ones)\n"
      ],
      "metadata": {
        "colab": {
          "base_uri": "https://localhost:8080/"
        },
        "id": "gkeJDe13L3hn",
        "outputId": "fd1ee6d6-764e-4e66-f5ec-ae9890b54030"
      },
      "execution_count": null,
      "outputs": [
        {
          "output_type": "stream",
          "name": "stdout",
          "text": [
            "Zeros:\n",
            " [[0. 0. 0.]\n",
            " [0. 0. 0.]\n",
            " [0. 0. 0.]]\n",
            "Ones:\n",
            " [[1. 1. 1.]\n",
            " [1. 1. 1.]]\n"
          ]
        }
      ]
    },
    {
      "cell_type": "markdown",
      "source": [
        "A 2D NumPy array of specified shape filled with a constant value."
      ],
      "metadata": {
        "id": "MRcqYcQ9N-Ki"
      }
    },
    {
      "cell_type": "code",
      "source": [
        "full_array = np.full((2, 2), 7)\n",
        "print(\"Full Array:\\n\", full_array)\n"
      ],
      "metadata": {
        "colab": {
          "base_uri": "https://localhost:8080/"
        },
        "id": "1dSPJN5bMGYY",
        "outputId": "f6ca0cd6-c02e-4233-8759-d427ecff6dab"
      },
      "execution_count": null,
      "outputs": [
        {
          "output_type": "stream",
          "name": "stdout",
          "text": [
            "Full Array:\n",
            " [[7 7]\n",
            " [7 7]]\n"
          ]
        }
      ]
    },
    {
      "cell_type": "markdown",
      "source": [
        "An array with evenly spaced values"
      ],
      "metadata": {
        "id": "jJZLlrHRN9tB"
      }
    },
    {
      "cell_type": "code",
      "source": [
        "linspace_array = np.linspace(0, 1, 5)\n",
        "print(\"Linspace Array:\", linspace_array)\n"
      ],
      "metadata": {
        "colab": {
          "base_uri": "https://localhost:8080/"
        },
        "id": "OukO2ydpMISi",
        "outputId": "4c45b5d2-a04c-49df-9dd8-0d9ca3d4185e"
      },
      "execution_count": null,
      "outputs": [
        {
          "output_type": "stream",
          "name": "stdout",
          "text": [
            "Linspace Array: [0.   0.25 0.5  0.75 1.  ]\n"
          ]
        }
      ]
    },
    {
      "cell_type": "markdown",
      "source": [
        "# Array Manipulation"
      ],
      "metadata": {
        "id": "xIQIC-GhN2Ps"
      }
    },
    {
      "cell_type": "markdown",
      "source": [
        "Reshape an Array"
      ],
      "metadata": {
        "id": "9vmoDmrMN88Z"
      }
    },
    {
      "cell_type": "code",
      "source": [
        "arr1 = np.array([1,2,3,4,5])\n",
        "print(arr1.shape)\n",
        "print(end='\\n')\n",
        "reshaped = arr1.reshape(5, 1)\n",
        "print(\"Reshaped:\\n\", reshaped)\n",
        "print(end=\"\\n\")\n",
        "print(reshaped.shape)"
      ],
      "metadata": {
        "colab": {
          "base_uri": "https://localhost:8080/"
        },
        "id": "ktMg5lKiM7aX",
        "outputId": "c68c5734-562a-41f6-9e74-7c8d00c1d273"
      },
      "execution_count": null,
      "outputs": [
        {
          "output_type": "stream",
          "name": "stdout",
          "text": [
            "(5,)\n",
            "\n",
            "Reshaped:\n",
            " [[1]\n",
            " [2]\n",
            " [3]\n",
            " [4]\n",
            " [5]]\n",
            "\n",
            "(5, 1)\n"
          ]
        }
      ]
    },
    {
      "cell_type": "markdown",
      "source": [
        "Flatten an Array"
      ],
      "metadata": {
        "id": "zmLbkjL4OBbW"
      }
    },
    {
      "cell_type": "code",
      "source": [
        "flattened = reshaped.flatten()\n",
        "print(\"Flattened:\", flattened)\n",
        "print(flattened.shape)"
      ],
      "metadata": {
        "colab": {
          "base_uri": "https://localhost:8080/"
        },
        "id": "6va9KfGbNEmB",
        "outputId": "4a642254-a40b-4ffd-e703-58d3143204b2"
      },
      "execution_count": null,
      "outputs": [
        {
          "output_type": "stream",
          "name": "stdout",
          "text": [
            "Flattened: [1 2 3 4 5]\n",
            "(5,)\n"
          ]
        }
      ]
    },
    {
      "cell_type": "markdown",
      "source": [
        "Transpose an Array"
      ],
      "metadata": {
        "id": "3kI8tkQFOWwY"
      }
    },
    {
      "cell_type": "code",
      "source": [
        "arr3 = np.array([[1, 2, 3, 4, 5], [5, 4, 3, 2, 1]])\n",
        "print(arr3.shape)\n",
        "print(end=\"\\n\")\n",
        "# Transposing the array\n",
        "transposed = arr3.transpose()\n",
        "\n",
        "# Printing the transposed array\n",
        "print(\"Transposed:\\n\", transposed)\n",
        "print(\"\\n\")\n",
        "print(transposed.shape)\n"
      ],
      "metadata": {
        "colab": {
          "base_uri": "https://localhost:8080/"
        },
        "id": "bM4k7EqtOMPl",
        "outputId": "8715cea2-0f76-4bbb-ff62-43dbd8f6c8c5"
      },
      "execution_count": null,
      "outputs": [
        {
          "output_type": "stream",
          "name": "stdout",
          "text": [
            "(2, 5)\n",
            "\n",
            "Transposed:\n",
            " [[1 5]\n",
            " [2 4]\n",
            " [3 3]\n",
            " [4 2]\n",
            " [5 1]]\n",
            "\n",
            "\n",
            "(5, 2)\n"
          ]
        }
      ]
    },
    {
      "cell_type": "code",
      "source": [
        "arr1 = np.array([1,2,3,4,5])\n",
        "arr3 = np.array([6, 7, 8])\n",
        "concatenated = np.concatenate((arr1, arr3))\n",
        "print(\"Concatenated:\", concatenated)\n"
      ],
      "metadata": {
        "colab": {
          "base_uri": "https://localhost:8080/"
        },
        "id": "s-c6TfzFPF8b",
        "outputId": "f34648c7-3264-4f49-9d2d-efc1bc1aeb0c"
      },
      "execution_count": null,
      "outputs": [
        {
          "output_type": "stream",
          "name": "stdout",
          "text": [
            "Concatenated: [1 2 3 4 5 6 7 8]\n"
          ]
        }
      ]
    },
    {
      "cell_type": "code",
      "source": [
        "arr1 = np.array([1,2,3,4,5])\n",
        "split_array = np.split(arr1, 5)\n",
        "print(\"Split Array:\", split_array)"
      ],
      "metadata": {
        "colab": {
          "base_uri": "https://localhost:8080/"
        },
        "id": "6rdilrj8Pk2_",
        "outputId": "f1b2289e-d197-4c37-dbe6-a8969d7a3dd8"
      },
      "execution_count": null,
      "outputs": [
        {
          "output_type": "stream",
          "name": "stdout",
          "text": [
            "Split Array: [array([1]), array([2]), array([3]), array([4]), array([5])]\n"
          ]
        }
      ]
    },
    {
      "cell_type": "markdown",
      "source": [
        "# Mathematical Functions"
      ],
      "metadata": {
        "id": "SDkIbtdMP9cc"
      }
    },
    {
      "cell_type": "markdown",
      "source": [
        "1. Element-wise Operations"
      ],
      "metadata": {
        "id": "yI54dzT0P_MY"
      }
    },
    {
      "cell_type": "code",
      "source": [
        "import numpy as np\n",
        "\n",
        "# Creating two NumPy arrays\n",
        "arr1 = np.array([1, 2, 3, 4, 5])\n",
        "arr3 = np.array([6, 7, 8, 9, 10])\n",
        "\n",
        "# Element-wise addition\n",
        "added = np.add(arr1, arr3)\n",
        "print(\"Added:\", added)\n",
        "\n",
        "# Element-wise subtraction\n",
        "subtracted = np.subtract(arr1, arr3)\n",
        "print(\"Subtracted:\", subtracted)\n",
        "\n",
        "# Element-wise multiplication\n",
        "multiplied = np.multiply(arr1, arr3)\n",
        "print(\"Multiplied:\", multiplied)\n",
        "\n",
        "# Element-wise division\n",
        "divided = np.divide(arr1, arr3)\n",
        "print(\"Divided:\", divided)\n",
        "\n",
        "# Element-wise modulus\n",
        "modulus = np.mod(arr3, arr1)\n",
        "print(\"Modulus:\", modulus)\n",
        "\n",
        "# Element-wise power\n",
        "power = np.power(arr1, 2)  # Raising arr1 to the power of 2\n",
        "print(\"Power (arr1^2):\", power)\n",
        "\n",
        "\n",
        "\n"
      ],
      "metadata": {
        "colab": {
          "base_uri": "https://localhost:8080/"
        },
        "id": "rgOv2my9QCHT",
        "outputId": "a32ee22b-23aa-417b-f379-5dd84f3d2931"
      },
      "execution_count": null,
      "outputs": [
        {
          "output_type": "stream",
          "name": "stdout",
          "text": [
            "Added: [ 7  9 11 13 15]\n",
            "Subtracted: [-5 -5 -5 -5 -5]\n",
            "Multiplied: [ 6 14 24 36 50]\n",
            "Divided: [0.16666667 0.28571429 0.375      0.44444444 0.5       ]\n",
            "Modulus: [0 1 2 1 0]\n",
            "Power (arr1^2): [ 1  4  9 16 25]\n"
          ]
        }
      ]
    },
    {
      "cell_type": "code",
      "source": [
        "arr1 = np.array([1,2,3,4,5,6,7,8,9,10])\n",
        "\n",
        "sum_value = np.sum(arr1)\n",
        "mean_value = np.mean(arr1)\n",
        "median_value = np.median(arr1)\n",
        "std_value = np.std(arr1)\n",
        "variance_value = np.var(arr1)\n",
        "min_value = np.min(arr1)\n",
        "max_value = np.max(arr1)\n",
        "argmax_value = np.argmax(arr1)\n",
        "argmin_value = np.argmin(arr1)\n",
        "sqrt_values = np.sqrt(arr1)\n",
        "\n",
        "\n",
        "print(\"Sum:\", sum_value)\n",
        "print(\"Mean:\", mean_value)\n",
        "print(\"Median:\", median_value)\n",
        "print(\"Standard Deviation:\", std_value)\n",
        "print(\"Variance:\", variance_value)\n",
        "print(\"Minimum:\", min_value)\n",
        "print(\"Maximum:\", max_value)\n",
        "print(\"Index of Maximum Value:\", argmax_value)\n",
        "print(\"Index of Minimum Value:\", argmin_value)\n",
        "print(\"Square Roots:\", sqrt_values)\n"
      ],
      "metadata": {
        "colab": {
          "base_uri": "https://localhost:8080/"
        },
        "id": "5QJBjJ3yQy-z",
        "outputId": "57b15d6d-1b19-4b1d-f86e-ff12629fa368"
      },
      "execution_count": null,
      "outputs": [
        {
          "output_type": "stream",
          "name": "stdout",
          "text": [
            "Sum: 55\n",
            "Mean: 5.5\n",
            "Median: 5.5\n",
            "Standard Deviation: 2.8722813232690143\n",
            "Variance: 8.25\n",
            "Minimum: 1\n",
            "Maximum: 10\n",
            "Index of Maximum Value: 9\n",
            "Index of Minimum Value: 0\n",
            "Square Roots: [1.         1.41421356 1.73205081 2.         2.23606798 2.44948974\n",
            " 2.64575131 2.82842712 3.         3.16227766]\n"
          ]
        }
      ]
    },
    {
      "cell_type": "markdown",
      "source": [
        "# Array Indexing and Slicing"
      ],
      "metadata": {
        "id": "sp_mXqtfRpJn"
      }
    },
    {
      "cell_type": "markdown",
      "source": [
        "Basic Indexing"
      ],
      "metadata": {
        "id": "A9AHw-wjR13e"
      }
    },
    {
      "cell_type": "code",
      "source": [
        "arr1 = np.array([1,2,3,4,5,6,7,8,9,10])\n",
        "\n",
        "\n",
        "element = arr1[2]\n",
        "print(\"Element at index 2:\", element)\n"
      ],
      "metadata": {
        "colab": {
          "base_uri": "https://localhost:8080/"
        },
        "id": "c8QU2TDUReYB",
        "outputId": "99844b4e-09ac-4345-a7e3-245e1e0a65b6"
      },
      "execution_count": null,
      "outputs": [
        {
          "output_type": "stream",
          "name": "stdout",
          "text": [
            "Element at index 2: 3\n"
          ]
        }
      ]
    },
    {
      "cell_type": "markdown",
      "source": [
        "Slicing of an array"
      ],
      "metadata": {
        "id": "PuyI6nCfR2Iy"
      }
    },
    {
      "cell_type": "code",
      "source": [
        "arr1 = np.array([1,2,3,4,5,6,7,8,9,10])\n",
        "\n",
        "slice_array = arr1[1:4]\n",
        "print(\"Slice Array:\", slice_array)\n"
      ],
      "metadata": {
        "colab": {
          "base_uri": "https://localhost:8080/"
        },
        "id": "OJbqA4YZR1Ln",
        "outputId": "2ac76de5-fa91-4f42-cd43-15f95aa6d497"
      },
      "execution_count": null,
      "outputs": [
        {
          "output_type": "stream",
          "name": "stdout",
          "text": [
            "Slice Array: [2 3 4]\n"
          ]
        }
      ]
    },
    {
      "cell_type": "markdown",
      "source": [
        "Boolean Indexing"
      ],
      "metadata": {
        "id": "geOK--39R-O9"
      }
    },
    {
      "cell_type": "code",
      "source": [
        "arr1 = np.array([1,2,3,4,5,6,7,8,9,10])\n",
        "\n",
        "bool_index = arr1[arr1 > 3]\n",
        "print(\"Boolean Indexing:\", bool_index)"
      ],
      "metadata": {
        "colab": {
          "base_uri": "https://localhost:8080/"
        },
        "id": "Bg5lkblDR-gz",
        "outputId": "1e542340-efa1-493f-e811-e99a42006e48"
      },
      "execution_count": null,
      "outputs": [
        {
          "output_type": "stream",
          "name": "stdout",
          "text": [
            "Boolean Indexing: [ 4  5  6  7  8  9 10]\n"
          ]
        }
      ]
    },
    {
      "cell_type": "markdown",
      "source": [
        "#Linear Algebra\n"
      ],
      "metadata": {
        "id": "OoOAOduvSj1G"
      }
    },
    {
      "cell_type": "code",
      "source": [
        "# Create a 2D array (matrix)\n",
        "arr1 = np.array([[1, 2], [3, 4]])\n",
        "arr2 = np.array([[5, 6], [7, 8]])\n",
        "\n",
        "# 1. Matrix Multiplication\n",
        "C = np.matmul(arr1, arr2)  # or C = arr1 @ arr2\n",
        "print(\"Matrix Multiplication (arr1 @ arr2):\\n\", C)\n",
        "\n",
        "# 2. Matrix Inversion\n",
        "A_inv = np.linalg.inv(arr1)\n",
        "print(\"Inverse of arr1:\\n\", A_inv)\n",
        "\n",
        "# 3. Determinant\n",
        "det_A = np.linalg.det(arr1)\n",
        "print(\"Determinant of arr1:\", det_A)\n",
        "\n",
        "# 4. Transpose\n",
        "A_T = np.transpose(arr1)\n",
        "print(\"Transpose of arr1:\\n\", A_T)\n"
      ],
      "metadata": {
        "colab": {
          "base_uri": "https://localhost:8080/"
        },
        "id": "LaaWN0_aSl67",
        "outputId": "6614e9df-55c5-4cfe-e4fa-a5be762b363c"
      },
      "execution_count": null,
      "outputs": [
        {
          "output_type": "stream",
          "name": "stdout",
          "text": [
            "Matrix Multiplication (arr1 @ arr2):\n",
            " [[19 22]\n",
            " [43 50]]\n",
            "Inverse of arr1:\n",
            " [[-2.   1. ]\n",
            " [ 1.5 -0.5]]\n",
            "Determinant of arr1: -2.0000000000000004\n",
            "Transpose of arr1:\n",
            " [[1 3]\n",
            " [2 4]]\n"
          ]
        }
      ]
    },
    {
      "cell_type": "markdown",
      "source": [
        "# Sorting and Searching"
      ],
      "metadata": {
        "id": "IEPwhvpBWq8C"
      }
    },
    {
      "cell_type": "markdown",
      "source": [
        " Sorting\n"
      ],
      "metadata": {
        "id": "ljgNfNkkW6yB"
      }
    },
    {
      "cell_type": "code",
      "source": [
        "# Create an array\n",
        "arr = np.array([3, 1, 4, 1, 5, 9, 2])\n",
        "\n",
        "# Sort the array\n",
        "sorted_arr = np.sort(arr)\n",
        "print(\"Sorted Array:\", sorted_arr)\n",
        "\n",
        "# Get the indices that would sort the array\n",
        "indices = np.argsort(arr)\n",
        "print(\"Indices for Sorted Array:\", indices)"
      ],
      "metadata": {
        "colab": {
          "base_uri": "https://localhost:8080/"
        },
        "id": "O3xygeOQVI0g",
        "outputId": "f709d494-f415-457d-b9ca-27acf582f7ad"
      },
      "execution_count": null,
      "outputs": [
        {
          "output_type": "stream",
          "name": "stdout",
          "text": [
            "Sorted Array: [1 1 2 3 4 5 9]\n",
            "Indices for Sorted Array: [1 3 6 0 2 4 5]\n"
          ]
        }
      ]
    },
    {
      "cell_type": "code",
      "source": [
        "# Create two arrays\n",
        "names = np.array(['John', 'Anna', 'Zoe', 'Amit'])\n",
        "ages = np.array([28, 22, 22, 30])\n",
        "\n",
        "# Sort by names, then by ages\n",
        "sorted_indices = np.lexsort((ages, names))\n",
        "sorted_names = names[sorted_indices]\n",
        "sorted_ages = ages[sorted_indices]\n",
        "print(\"Sorted Names:\", sorted_names)\n",
        "print(\"Sorted Ages:\", sorted_ages)"
      ],
      "metadata": {
        "colab": {
          "base_uri": "https://localhost:8080/"
        },
        "id": "yIWsOThoXIdd",
        "outputId": "d7a05bd9-1b84-461b-e20f-08afcd85b742"
      },
      "execution_count": null,
      "outputs": [
        {
          "output_type": "stream",
          "name": "stdout",
          "text": [
            "Sorted Names: ['Amit' 'Anna' 'John' 'Zoe']\n",
            "Sorted Ages: [30 22 28 22]\n"
          ]
        }
      ]
    },
    {
      "cell_type": "markdown",
      "source": [
        "Searching"
      ],
      "metadata": {
        "id": "cRg4cm3EXBLa"
      }
    },
    {
      "cell_type": "code",
      "source": [
        "arr = np.array([2,5,7,8,1])\n",
        "indices = np.where(arr > 4)\n",
        "print(\"Indices of elements greater than 4:\", indices)\n",
        "print(\"Elements greater than 4:\", arr[indices])"
      ],
      "metadata": {
        "colab": {
          "base_uri": "https://localhost:8080/"
        },
        "id": "l3LSUTF9XCy4",
        "outputId": "a3858e5c-8afd-4017-e403-1640072cce6f"
      },
      "execution_count": null,
      "outputs": [
        {
          "output_type": "stream",
          "name": "stdout",
          "text": [
            "Indices of elements greater than 4: (array([1, 2, 3]),)\n",
            "Elements greater than 4: [5 7 8]\n"
          ]
        }
      ]
    },
    {
      "cell_type": "code",
      "source": [
        "# Create a sorted array\n",
        "sorted_arr = np.array([1, 2, 3, 4, 7,10])\n",
        "\n",
        "# Find the index to insert 6\n",
        "index = np.searchsorted(sorted_arr, 6)\n",
        "print(\"Index to insert 6:\", index)"
      ],
      "metadata": {
        "colab": {
          "base_uri": "https://localhost:8080/"
        },
        "id": "ggTuPFvKXZX9",
        "outputId": "c91b67fe-81cc-43b0-c1cb-6c89267e0911"
      },
      "execution_count": null,
      "outputs": [
        {
          "output_type": "stream",
          "name": "stdout",
          "text": [
            "Index to insert 6: 4\n"
          ]
        }
      ]
    },
    {
      "cell_type": "code",
      "source": [
        "# Create an array with zeros\n",
        "arr_with_zeros = np.array([0, 1, 0, 3, 4])\n",
        "\n",
        "# Get indices of non-zero elements\n",
        "non_zero_indices = np.nonzero(arr_with_zeros)\n",
        "print(\"Indices of non-zero elements:\", non_zero_indices)\n",
        "print(\"Non-zero elements:\", arr_with_zeros[non_zero_indices])"
      ],
      "metadata": {
        "colab": {
          "base_uri": "https://localhost:8080/"
        },
        "id": "l02TGqpHXsf_",
        "outputId": "22f4b2fe-3d11-4f8a-b0fb-3fef99d5a824"
      },
      "execution_count": null,
      "outputs": [
        {
          "output_type": "stream",
          "name": "stdout",
          "text": [
            "Indices of non-zero elements: (array([1, 3, 4]),)\n",
            "Non-zero elements: [1 3 4]\n"
          ]
        }
      ]
    },
    {
      "cell_type": "markdown",
      "source": [
        "# Random Number Generation"
      ],
      "metadata": {
        "id": "e_x2rrmPX_5V"
      }
    },
    {
      "cell_type": "code",
      "source": [
        "# Generate an array of random floats (2x3)\n",
        "random_array = np.random.rand(2, 3)\n",
        "print(\"Random Array (0 to 1):\\n\", random_array)\n"
      ],
      "metadata": {
        "colab": {
          "base_uri": "https://localhost:8080/"
        },
        "id": "fdrrODWGYFkb",
        "outputId": "f084494e-e1e6-4fc7-e136-3dd62717946d"
      },
      "execution_count": null,
      "outputs": [
        {
          "output_type": "stream",
          "name": "stdout",
          "text": [
            "Random Array (0 to 1):\n",
            " [[0.74528901 0.11494648 0.52860324]\n",
            " [0.24906361 0.08940479 0.08283693]]\n"
          ]
        }
      ]
    },
    {
      "cell_type": "code",
      "source": [
        "# Generate an array of random integers (from 0 to 10, 2x3)\n",
        "random_integers = np.random.randint(0, 10, size=(2, 3))\n",
        "print(\"\\nRandom Integer Array (0 to 9):\\n\", random_integers)"
      ],
      "metadata": {
        "colab": {
          "base_uri": "https://localhost:8080/"
        },
        "id": "CxO6pWZEYNr9",
        "outputId": "7b787fe3-4391-40c5-f65f-c131aeb4d7b3"
      },
      "execution_count": null,
      "outputs": [
        {
          "output_type": "stream",
          "name": "stdout",
          "text": [
            "\n",
            "Random Integer Array (0 to 9):\n",
            " [[3 0 1]\n",
            " [8 7 3]]\n"
          ]
        }
      ]
    },
    {
      "cell_type": "code",
      "source": [
        "# Generate a random sample from a given array\n",
        "sample_array = np.array([10, 20, 30, 40, 50])\n",
        "random_sample = np.random.choice(sample_array, size=3, replace=False)\n",
        "print(\"\\nRandom Sample from Given Array:\\n\", random_sample)"
      ],
      "metadata": {
        "colab": {
          "base_uri": "https://localhost:8080/"
        },
        "id": "ET1J_0beYnb4",
        "outputId": "d3a2f74d-d805-466a-dbda-e0a54b040078"
      },
      "execution_count": null,
      "outputs": [
        {
          "output_type": "stream",
          "name": "stdout",
          "text": [
            "\n",
            "Random Sample from Given Array:\n",
            " [50 40 30]\n"
          ]
        }
      ]
    }
  ]
}